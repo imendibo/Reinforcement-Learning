{
 "cells": [
  {
   "cell_type": "markdown",
   "metadata": {},
   "source": [
    "<img src=\"images/valueiteration.png\" width=\"500\">"
   ]
  },
  {
   "cell_type": "markdown",
   "metadata": {
    "toc": true
   },
   "source": [
    "<h1>Table of Contents<span class=\"tocSkip\"></span></h1>\n",
    "<div class=\"toc\"><ul class=\"toc-item\"><li><span><a href=\"#Imports\" data-toc-modified-id=\"Imports-1\"><span class=\"toc-item-num\">1&nbsp;&nbsp;</span>Imports</a></span></li><li><span><a href=\"#Create-Environment\" data-toc-modified-id=\"Create-Environment-2\"><span class=\"toc-item-num\">2&nbsp;&nbsp;</span>Create Environment</a></span></li><li><span><a href=\"#Value-iteration-function\" data-toc-modified-id=\"Value-iteration-function-3\"><span class=\"toc-item-num\">3&nbsp;&nbsp;</span>Value iteration function</a></span></li><li><span><a href=\"#Evaluate-result\" data-toc-modified-id=\"Evaluate-result-4\"><span class=\"toc-item-num\">4&nbsp;&nbsp;</span>Evaluate result</a></span><ul class=\"toc-item\"><li><span><a href=\"#Optimal-Policy\" data-toc-modified-id=\"Optimal-Policy-4.1\"><span class=\"toc-item-num\">4.1&nbsp;&nbsp;</span>Optimal Policy</a></span></li><li><span><a href=\"#Optimal-Value-Functions\" data-toc-modified-id=\"Optimal-Value-Functions-4.2\"><span class=\"toc-item-num\">4.2&nbsp;&nbsp;</span>Optimal Value Functions</a></span></li></ul></li><li><span><a href=\"#Test-the-result\" data-toc-modified-id=\"Test-the-result-5\"><span class=\"toc-item-num\">5&nbsp;&nbsp;</span>Test the result</a></span></li></ul></div>"
   ]
  },
  {
   "cell_type": "markdown",
   "metadata": {},
   "source": [
    "# Imports"
   ]
  },
  {
   "cell_type": "code",
   "execution_count": 2,
   "metadata": {},
   "outputs": [],
   "source": [
    "import numpy as np \n",
    "import gym.spaces\n",
    "from lib.envs.gridworld import GridworldEnv"
   ]
  },
  {
   "cell_type": "markdown",
   "metadata": {},
   "source": [
    "# Create Environment\n",
    "\n",
    "    X is your position\n",
    "    T is the terminal position"
   ]
  },
  {
   "cell_type": "code",
   "execution_count": 3,
   "metadata": {},
   "outputs": [],
   "source": [
    "env = GridworldEnv()"
   ]
  },
  {
   "cell_type": "code",
   "execution_count": 4,
   "metadata": {},
   "outputs": [
    {
     "name": "stdout",
     "output_type": "stream",
     "text": [
      "T  o  o  o\n",
      "o  o  o  o\n",
      "o  o  o  o\n",
      "o  o  o  x\n"
     ]
    }
   ],
   "source": [
    "env._render()"
   ]
  },
  {
   "cell_type": "markdown",
   "metadata": {},
   "source": [
    "# Value iteration function"
   ]
  },
  {
   "cell_type": "code",
   "execution_count": 7,
   "metadata": {},
   "outputs": [],
   "source": [
    "def value_iteration(env, epsilon=0.0001, discount_factor=1.0):\n",
    "    \"\"\"\n",
    "    Value Iteration Algorithm.\n",
    "    \n",
    "    Args:\n",
    "        env: OpenAI env. env.P represents the transition probabilities of the environment.\n",
    "            env.P[s][a] is a list of transition tuples (prob, next_state, reward, done).\n",
    "            env.nS is a number of states in the environment. \n",
    "            env.nA is a number of actions in the environment.\n",
    "        theta: We stop evaluation once our value function change is less than theta for all states.\n",
    "        discount_factor: Gamma discount factor.\n",
    "        \n",
    "    Returns:\n",
    "        A tuple (policy, V) of the optimal policy and the optimal value function.        \n",
    "    \"\"\"\n",
    "    def one_step_lookahead(V, a, s):\n",
    "\n",
    "        [(prob, next_state, reward, done)] = env.P[s][a]\n",
    "        v = prob * (reward + discount_factor * V[next_state])\n",
    "\n",
    "        return v\n",
    "\n",
    "    #start with inital value function and intial policy\n",
    "    V = np.zeros(env.nS)\n",
    "    policy = np.zeros([env.nS, env.nA])\n",
    "\n",
    "    #while not the optimal policy\n",
    "    while True:\n",
    "      #for stopping condition\n",
    "        delta = 0\n",
    "\n",
    "        #loop over state space\n",
    "        for s in range(env.nS):\n",
    "\n",
    "            actions_values = np.zeros(env.nA)\n",
    "\n",
    "            #loop over possible actions\n",
    "            for a in range(env.nA):\n",
    "\n",
    "                #apply bellman eqn to get actions values\n",
    "                actions_values[a] = one_step_lookahead(V, a, s)\n",
    "\n",
    "            #pick the best action\n",
    "            best_action_value = max(actions_values)\n",
    "\n",
    "            #get the biggest difference between best action value and our old value function\n",
    "            delta = max(delta, abs(best_action_value - V[s]))\n",
    "\n",
    "            #apply bellman optimality eqn\n",
    "            V[s] = best_action_value\n",
    "\n",
    "            #to update the policy\n",
    "            best_action = np.argmax(actions_values)\n",
    "\n",
    "            #update the policy\n",
    "            policy[s] = np.eye(env.nA)[best_action]\n",
    "\n",
    "\n",
    "        #if optimal value function\n",
    "        if(delta < epsilon):\n",
    "            break\n",
    "\n",
    "    return policy, V"
   ]
  },
  {
   "cell_type": "code",
   "execution_count": 8,
   "metadata": {},
   "outputs": [],
   "source": [
    "policy, v = value_iteration(env, discount_factor=1)"
   ]
  },
  {
   "cell_type": "markdown",
   "metadata": {},
   "source": [
    "# Evaluate result"
   ]
  },
  {
   "cell_type": "markdown",
   "metadata": {},
   "source": [
    "## Optimal Policy\n",
    "    0 = up\n",
    "    1 = right\n",
    "    2 = down\n",
    "    3 = left"
   ]
  },
  {
   "cell_type": "code",
   "execution_count": 17,
   "metadata": {},
   "outputs": [
    {
     "name": "stdout",
     "output_type": "stream",
     "text": [
      "Reshaped Grid Policy (0=up, 1=right, 2=down, 3=left):\n",
      "[[0 3 3 2]\n",
      " [0 0 0 2]\n",
      " [0 0 1 2]\n",
      " [0 1 1 0]]\n",
      "\n"
     ]
    }
   ],
   "source": [
    "p = np.reshape(np.argmax(policy, axis=1), env.shape)\n",
    "\n",
    "\n",
    "print(\"Reshaped Grid Policy (0=up, 1=right, 2=down, 3=left):\")\n",
    "print(p)\n",
    "print(\"\")"
   ]
  },
  {
   "cell_type": "markdown",
   "metadata": {},
   "source": [
    "## Optimal Value Functions"
   ]
  },
  {
   "cell_type": "code",
   "execution_count": 18,
   "metadata": {},
   "outputs": [
    {
     "name": "stdout",
     "output_type": "stream",
     "text": [
      "Value Function:\n",
      "[ 0. -1. -2. -3. -1. -2. -3. -2. -2. -3. -2. -1. -3. -2. -1.  0.]\n",
      "\n"
     ]
    }
   ],
   "source": [
    "print(\"Value Function:\")\n",
    "print(v)\n",
    "print(\"\")"
   ]
  },
  {
   "cell_type": "code",
   "execution_count": 19,
   "metadata": {
    "scrolled": true
   },
   "outputs": [
    {
     "name": "stdout",
     "output_type": "stream",
     "text": [
      "Reshaped Grid Value Function:\n",
      "[[ 0. -1. -2. -3.]\n",
      " [-1. -2. -3. -2.]\n",
      " [-2. -3. -2. -1.]\n",
      " [-3. -2. -1.  0.]]\n",
      "\n"
     ]
    }
   ],
   "source": [
    "print(\"Reshaped Grid Value Function:\")\n",
    "print(v.reshape(env.shape))\n",
    "print(\"\")"
   ]
  },
  {
   "cell_type": "markdown",
   "metadata": {},
   "source": [
    "# Test the result"
   ]
  },
  {
   "cell_type": "code",
   "execution_count": 14,
   "metadata": {},
   "outputs": [
    {
     "name": "stdout",
     "output_type": "stream",
     "text": [
      "T  o  o  o\n",
      "o  o  o  o\n",
      "o  x  o  o\n",
      "o  o  o  T\n"
     ]
    }
   ],
   "source": [
    "env.reset()\n",
    "env._render()"
   ]
  },
  {
   "cell_type": "code",
   "execution_count": 15,
   "metadata": {},
   "outputs": [
    {
     "name": "stdout",
     "output_type": "stream",
     "text": [
      "start point\n",
      "T  o  o  o\n",
      "o  o  o  o\n",
      "o  x  o  o\n",
      "o  o  o  T\n",
      "moving\n",
      "\n",
      "T  o  o  o\n",
      "o  x  o  o\n",
      "o  o  o  o\n",
      "o  o  o  T\n",
      "moving\n",
      "\n",
      "T  x  o  o\n",
      "o  o  o  o\n",
      "o  o  o  o\n",
      "o  o  o  T\n",
      "moving\n",
      "\n",
      "x  o  o  o\n",
      "o  o  o  o\n",
      "o  o  o  o\n",
      "o  o  o  T\n",
      "destination\n"
     ]
    }
   ],
   "source": [
    "print('start point')\n",
    "env._render()\n",
    "while True:\n",
    "    result = env.step(np.argmax(policy[env.s]))\n",
    "    print('moving\\n')\n",
    "    env._render()\n",
    "    if(result[2]):\n",
    "        print('destination')\n",
    "        break"
   ]
  }
 ],
 "metadata": {
  "kernelspec": {
   "display_name": "Python 3",
   "language": "python",
   "name": "python3"
  },
  "language_info": {
   "codemirror_mode": {
    "name": "ipython",
    "version": 3
   },
   "file_extension": ".py",
   "mimetype": "text/x-python",
   "name": "python",
   "nbconvert_exporter": "python",
   "pygments_lexer": "ipython3",
   "version": "3.7.4"
  },
  "toc": {
   "base_numbering": 1,
   "nav_menu": {},
   "number_sections": true,
   "sideBar": true,
   "skip_h1_title": false,
   "title_cell": "Table of Contents",
   "title_sidebar": "Contents",
   "toc_cell": true,
   "toc_position": {},
   "toc_section_display": true,
   "toc_window_display": true
  }
 },
 "nbformat": 4,
 "nbformat_minor": 2
}
