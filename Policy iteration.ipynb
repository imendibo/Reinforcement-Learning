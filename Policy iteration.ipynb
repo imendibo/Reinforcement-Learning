{
 "cells": [
  {
   "cell_type": "markdown",
   "metadata": {},
   "source": [
    "<img src=\"images/policyiteration.png\" width=\"500\">"
   ]
  },
  {
   "cell_type": "markdown",
   "metadata": {
    "toc": true
   },
   "source": [
    "<h1>Table of Contents<span class=\"tocSkip\"></span></h1>\n",
    "<div class=\"toc\"><ul class=\"toc-item\"><li><span><a href=\"#Imports\" data-toc-modified-id=\"Imports-1\"><span class=\"toc-item-num\">1&nbsp;&nbsp;</span>Imports</a></span></li><li><span><a href=\"#Create-Environment\" data-toc-modified-id=\"Create-Environment-2\"><span class=\"toc-item-num\">2&nbsp;&nbsp;</span>Create Environment</a></span></li><li><span><a href=\"#Policy-evaluation\" data-toc-modified-id=\"Policy-evaluation-3\"><span class=\"toc-item-num\">3&nbsp;&nbsp;</span>Policy evaluation</a></span></li><li><span><a href=\"#Policy-Improvement\" data-toc-modified-id=\"Policy-Improvement-4\"><span class=\"toc-item-num\">4&nbsp;&nbsp;</span>Policy Improvement</a></span></li><li><span><a href=\"#Evaluate-result\" data-toc-modified-id=\"Evaluate-result-5\"><span class=\"toc-item-num\">5&nbsp;&nbsp;</span>Evaluate result</a></span><ul class=\"toc-item\"><li><span><a href=\"#Policy-Probability-Distribution:\" data-toc-modified-id=\"Policy-Probability-Distribution:-5.1\"><span class=\"toc-item-num\">5.1&nbsp;&nbsp;</span>Policy Probability Distribution:</a></span></li><li><span><a href=\"#Optimal-Policy\" data-toc-modified-id=\"Optimal-Policy-5.2\"><span class=\"toc-item-num\">5.2&nbsp;&nbsp;</span>Optimal Policy</a></span></li><li><span><a href=\"#Optimal-Value-Functions\" data-toc-modified-id=\"Optimal-Value-Functions-5.3\"><span class=\"toc-item-num\">5.3&nbsp;&nbsp;</span>Optimal Value Functions</a></span></li></ul></li></ul></div>"
   ]
  },
  {
   "cell_type": "markdown",
   "metadata": {},
   "source": [
    "# Imports"
   ]
  },
  {
   "cell_type": "code",
   "execution_count": 13,
   "metadata": {},
   "outputs": [],
   "source": [
    "import numpy as np \n",
    "import gym.spaces\n",
    "from lib.envs.gridworld import GridworldEnv"
   ]
  },
  {
   "cell_type": "markdown",
   "metadata": {},
   "source": [
    "# Create Environment\n",
    "\n",
    "    X is your position\n",
    "    T is the terminal position"
   ]
  },
  {
   "cell_type": "code",
   "execution_count": 14,
   "metadata": {},
   "outputs": [],
   "source": [
    "env = GridworldEnv()"
   ]
  },
  {
   "cell_type": "code",
   "execution_count": 17,
   "metadata": {},
   "outputs": [
    {
     "name": "stdout",
     "output_type": "stream",
     "text": [
      "T  o  o  o\n",
      "o  o  o  o\n",
      "o  o  x  o\n",
      "o  o  o  T\n"
     ]
    }
   ],
   "source": [
    "env._render()"
   ]
  },
  {
   "cell_type": "markdown",
   "metadata": {},
   "source": [
    "# Policy evaluation"
   ]
  },
  {
   "cell_type": "code",
   "execution_count": 7,
   "metadata": {},
   "outputs": [],
   "source": [
    "def policy_eval(policy, env, discount_factor=1.0, epsilon=0.00001):\n",
    "    \"\"\"\n",
    "    Evaluate a policy given an environment and a full description of the environment's dynamics.\n",
    "    \n",
    "    Args:\n",
    "        policy: [S, A] shaped matrix representing the policy.\n",
    "        env: OpenAI env. env.P represents the transition probabilities of the environment.\n",
    "            env.P[s][a] is a list of transition tuples (prob, next_state, reward, done).\n",
    "            env.nS is a number of states in the environment. \n",
    "            env.nA is a number of actions in the environment.\n",
    "        theta: We stop evaluation once our value function change is less than theta for all states.\n",
    "        discount_factor: Gamma discount factor.\n",
    "    \n",
    "    Returns:\n",
    "        Vector of length env.nS representing the value function.\n",
    "    \"\"\"\n",
    "    # Start with a random (all 0) value function\n",
    "    V_old = np.zeros(env.nS)\n",
    "\n",
    "    while True:        \n",
    "        #new value function\n",
    "        V_new = np.zeros(env.nS)\n",
    "        #stopping condition\n",
    "        delta = 0\n",
    "\n",
    "        #loop over state space\n",
    "        for s in range(env.nS):\n",
    "\n",
    "            #To accumelate bellman expectation eqn\n",
    "            v_fn = 0\n",
    "            #get probability distribution over actions\n",
    "            action_probs = policy[s]\n",
    "\n",
    "            #loop over possible actions\n",
    "            for a in range(env.nA):\n",
    "\n",
    "                #get transitions\n",
    "                [(prob, next_state, reward, done)] = env.P[s][a]\n",
    "                #apply bellman expectatoin eqn\n",
    "                v_fn += action_probs[a] * (reward + discount_factor * V_old[next_state])\n",
    "\n",
    "            #get the biggest difference over state space\n",
    "            delta = max(delta, abs(v_fn - V_old[s]))\n",
    "\n",
    "            #update state-value\n",
    "            V_new[s] = v_fn\n",
    "\n",
    "        #the new value function\n",
    "        V_old = V_new\n",
    "\n",
    "        #if true value function\n",
    "        if(delta < epsilon):\n",
    "            break\n",
    "    return np.array(V_old)"
   ]
  },
  {
   "cell_type": "markdown",
   "metadata": {},
   "source": [
    "See how we generated the optimal V values."
   ]
  },
  {
   "cell_type": "code",
   "execution_count": 20,
   "metadata": {},
   "outputs": [
    {
     "name": "stdout",
     "output_type": "stream",
     "text": [
      "[  0.         -13.99989315 -19.99984167 -21.99982282 -13.99989315\n",
      " -17.99986052 -19.99984273 -19.99984167 -19.99984167 -19.99984273\n",
      " -17.99986052 -13.99989315 -21.99982282 -19.99984167 -13.99989315\n",
      "   0.        ]\n",
      "[  0 -14 -20 -22 -14 -18 -20 -20 -20 -20 -18 -14 -22 -20 -14   0]\n"
     ]
    }
   ],
   "source": [
    "random_policy = np.ones([env.nS, env.nA]) / env.nA\n",
    "v = policy_eval(random_policy, env)\n",
    "\n",
    "expected_v = np.array([0, -14, -20, -22, -14, -18, -20, -20, -20, -20, -18, -14, -22, -20, -14, 0])\n",
    "np.testing.assert_array_almost_equal(v, expected_v, decimal=2)\n",
    "\n",
    "print(v)\n",
    "print(expected_v)"
   ]
  },
  {
   "cell_type": "markdown",
   "metadata": {},
   "source": [
    "# Policy Improvement"
   ]
  },
  {
   "cell_type": "code",
   "execution_count": 21,
   "metadata": {},
   "outputs": [],
   "source": [
    "def policy_improvement(env, policy_eval_fn=policy_eval, discount_factor=1.0):\n",
    "    \"\"\"\n",
    "    Policy Improvement Algorithm. Iteratively evaluates and improves a policy\n",
    "    until an optimal policy is found.\n",
    "    \n",
    "    Args:\n",
    "        env: The OpenAI envrionment.\n",
    "        policy_eval_fn: Policy Evaluation function that takes 3 arguments:\n",
    "            policy, env, discount_factor.\n",
    "        discount_factor: gamma discount factor.\n",
    "        \n",
    "    Returns:\n",
    "        A tuple (policy, V). \n",
    "        policy is the optimal policy, a matrix of shape [S, A] where each state s\n",
    "        contains a valid probability distribution over actions.\n",
    "        V is the value function for the optimal policy.\n",
    "       \n",
    "    \"\"\"\n",
    "    def one_step_lookahead(s, value_fn):\n",
    "\n",
    "        actions = np.zeros(env.nA)\n",
    "\n",
    "        for a in range(env.nA):\n",
    "\n",
    "            [(prob, next_state, reward, done)] = env.P[s][a]\n",
    "            actions[a] = prob * (reward + discount_factor * value_fn[next_state])\n",
    "            \n",
    "        return actions\n",
    "\n",
    "    # Start with a random policy\n",
    "    policy = np.ones([env.nS, env.nA]) / env.nA\n",
    "    actions_values = np.zeros(env.nA)\n",
    "\n",
    "    while True:\n",
    "\n",
    "        #evaluate the current policy\n",
    "        value_fn = policy_eval_fn(policy, env)\n",
    "       \n",
    "        policy_stable = True\n",
    "\n",
    "        #loop over state space\n",
    "        for s in range(env.nS):\n",
    "\n",
    "\n",
    "            #perform one step lookahead\n",
    "            actions_values = one_step_lookahead(s, value_fn)\n",
    "            \n",
    "            #maximize over possible actions \n",
    "            best_action = np.argmax(actions_values)\n",
    "\n",
    "            #best action on current policy\n",
    "            chosen_action = np.argmax(policy[s])\n",
    "\n",
    "            #if Bellman optimality equation not satisifed\n",
    "            if(best_action != chosen_action):\n",
    "                policy_stable = False\n",
    "\n",
    "            #the new policy after acting greedily w.r.t value function\n",
    "            policy[s] = np.eye(env.nA)[best_action]\n",
    "\n",
    "        #if Bellman optimality eqn is satisfied\n",
    "        if(policy_stable):\n",
    "            return policy, value_fn"
   ]
  },
  {
   "cell_type": "markdown",
   "metadata": {},
   "source": [
    "# Evaluate result"
   ]
  },
  {
   "cell_type": "markdown",
   "metadata": {},
   "source": [
    "## Policy Probability Distribution:\n"
   ]
  },
  {
   "cell_type": "code",
   "execution_count": 22,
   "metadata": {},
   "outputs": [
    {
     "name": "stdout",
     "output_type": "stream",
     "text": [
      "Policy Probability Distribution:\n",
      "[[1. 0. 0. 0.]\n",
      " [0. 0. 0. 1.]\n",
      " [0. 0. 0. 1.]\n",
      " [0. 0. 1. 0.]\n",
      " [1. 0. 0. 0.]\n",
      " [1. 0. 0. 0.]\n",
      " [1. 0. 0. 0.]\n",
      " [0. 0. 1. 0.]\n",
      " [1. 0. 0. 0.]\n",
      " [1. 0. 0. 0.]\n",
      " [0. 1. 0. 0.]\n",
      " [0. 0. 1. 0.]\n",
      " [1. 0. 0. 0.]\n",
      " [0. 1. 0. 0.]\n",
      " [0. 1. 0. 0.]\n",
      " [1. 0. 0. 0.]]\n",
      "\n"
     ]
    }
   ],
   "source": [
    "policy, v = policy_improvement(env)\n",
    "print(\"Policy Probability Distribution:\")\n",
    "print(policy)\n",
    "print(\"\")"
   ]
  },
  {
   "cell_type": "markdown",
   "metadata": {},
   "source": [
    "## Optimal Policy\n",
    "    0 = up\n",
    "    1 = right\n",
    "    2 = down\n",
    "    3 = left"
   ]
  },
  {
   "cell_type": "code",
   "execution_count": 23,
   "metadata": {},
   "outputs": [
    {
     "name": "stdout",
     "output_type": "stream",
     "text": [
      "Reshaped Grid Policy (0=up, 1=right, 2=down, 3=left):\n",
      "[[0 3 3 2]\n",
      " [0 0 0 2]\n",
      " [0 0 1 2]\n",
      " [0 1 1 0]]\n",
      "\n"
     ]
    }
   ],
   "source": [
    "print(\"Reshaped Grid Policy (0=up, 1=right, 2=down, 3=left):\")\n",
    "print(np.reshape(np.argmax(policy, axis=1), env.shape))\n",
    "print(\"\")"
   ]
  },
  {
   "cell_type": "markdown",
   "metadata": {},
   "source": [
    "## Optimal Value Functions"
   ]
  },
  {
   "cell_type": "code",
   "execution_count": 24,
   "metadata": {},
   "outputs": [
    {
     "name": "stdout",
     "output_type": "stream",
     "text": [
      "Value Function:\n",
      "[ 0. -1. -2. -3. -1. -2. -3. -2. -2. -3. -2. -1. -3. -2. -1.  0.]\n",
      "\n"
     ]
    }
   ],
   "source": [
    "print(\"Value Function:\")\n",
    "print(v)\n",
    "print(\"\")"
   ]
  },
  {
   "cell_type": "code",
   "execution_count": 25,
   "metadata": {},
   "outputs": [
    {
     "name": "stdout",
     "output_type": "stream",
     "text": [
      "Reshaped Grid Value Function:\n",
      "[[ 0. -1. -2. -3.]\n",
      " [-1. -2. -3. -2.]\n",
      " [-2. -3. -2. -1.]\n",
      " [-3. -2. -1.  0.]]\n",
      "\n"
     ]
    }
   ],
   "source": [
    "print(\"Reshaped Grid Value Function:\")\n",
    "print(v.reshape(env.shape))\n",
    "print(\"\")"
   ]
  }
 ],
 "metadata": {
  "kernelspec": {
   "display_name": "Python 3",
   "language": "python",
   "name": "python3"
  },
  "language_info": {
   "codemirror_mode": {
    "name": "ipython",
    "version": 3
   },
   "file_extension": ".py",
   "mimetype": "text/x-python",
   "name": "python",
   "nbconvert_exporter": "python",
   "pygments_lexer": "ipython3",
   "version": "3.7.4"
  },
  "toc": {
   "base_numbering": 1,
   "nav_menu": {},
   "number_sections": true,
   "sideBar": true,
   "skip_h1_title": false,
   "title_cell": "Table of Contents",
   "title_sidebar": "Contents",
   "toc_cell": true,
   "toc_position": {},
   "toc_section_display": true,
   "toc_window_display": true
  }
 },
 "nbformat": 4,
 "nbformat_minor": 2
}
